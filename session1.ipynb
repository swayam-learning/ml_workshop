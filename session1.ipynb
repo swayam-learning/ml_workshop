{
 "cells": [
  {
   "cell_type": "markdown",
   "metadata": {},
   "source": [
    "## **Supervised Learning**\n",
    "#### 1.**Classification** -- if the possible output of the function are predefined and discrete/categorical then it is called **Classification**\n",
    "#### 2.**Regression** -- if the possible output values of the function are continuous real values then it is called **Regression**"
   ]
  },
  {
   "cell_type": "markdown",
   "metadata": {},
   "source": [
    "## **Unsupervised Learning**\n",
    "#### -- 1. in this we do not need to know the labels or Ground truth values\n",
    "#### -- 2.the task is to identify the patterns like gropup the similar objects together\n",
    "#### -- 3. Association Rules of mining applies here where we try to group different objects together for eg Bikes and helmets"
   ]
  },
  {
   "cell_type": "markdown",
   "metadata": {},
   "source": [
    "## **Reinforcement Learning**\n",
    "#### -- 1. It is also known as learning from trials and errors\n",
    "#### -- 2. there are two parts agent and environment\n",
    "<img src=\"images\\rl.jpg\" height=400px width=600px></img>"
   ]
  },
  {
   "cell_type": "code",
   "execution_count": null,
   "metadata": {},
   "outputs": [],
   "source": []
  },
  {
   "cell_type": "code",
   "execution_count": null,
   "metadata": {},
   "outputs": [],
   "source": []
  }
 ],
 "metadata": {
  "kernelspec": {
   "display_name": "base",
   "language": "python",
   "name": "python3"
  },
  "language_info": {
   "name": "python",
   "version": "3.12.4"
  }
 },
 "nbformat": 4,
 "nbformat_minor": 2
}
