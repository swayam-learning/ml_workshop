{
 "cells": [
  {
   "cell_type": "markdown",
   "metadata": {},
   "source": [
    "# Linear Regression Implementation From Scratch in Python"
   ]
  },
  {
   "cell_type": "code",
   "execution_count": 1,
   "metadata": {},
   "outputs": [],
   "source": [
    "\"\"\"Linear Regression Algorithm From Scratch Using Python\n",
    "\n",
    "This class is implementing Linear Regression Algorithm without using machine learning libraries.\n",
    "\n",
    "\"\"\"\n",
    "from math import pow\n",
    "\n",
    "class SimpleLinearRegression:\n",
    "\n",
    "    \"\"\" Mean Calculation\n",
    "    \n",
    "    Mean is sum of all elements divided by total elements in the series\n",
    "    \"\"\"\n",
    "    def calculate_mean(self, series):\n",
    "        series_sum = sum(series)\n",
    "        series_length = len(series)\n",
    "        mean = series_sum / float(series_length)\n",
    "        return mean\n",
    "\n",
    "    \"\"\"Variance Calculation\n",
    "    \n",
    "    Variance is sum of square of distance of each elements from its mean, divided by total elements.\n",
    "    \"\"\"\n",
    "    def calculate_variance(self, series):\n",
    "        mean = self.calculate_mean(series)\n",
    "        series_length = len(series)\n",
    "        squared_difference = [pow(value - mean, 2) for value in series]\n",
    "        variance = sum(squared_difference) / float(series_length-1)\n",
    "        return variance\n",
    "\n",
    "    \"\"\"Covariance Calculation\n",
    "    \n",
    "    Covariance is mean value of the multiply of the deviaions of two variance.\n",
    "    \"\"\"\n",
    "    def calculate_covariance(self, series1, series2):\n",
    "        series1_mean = self.calculate_mean(series1)\n",
    "        series2_mean = self.calculate_mean(series2)\n",
    "        series1_length = len(series1)\n",
    "        covariance = 0.0\n",
    "        for i in range(0, series1_length):\n",
    "            covariance = covariance + \\\n",
    "                (series1[i] - series1_mean) * (series2[i] - series2_mean)\n",
    "        return covariance / float(series1_length - 1)\n",
    "\n",
    "    \"\"\"Slope of linear line\n",
    "    \n",
    "    Formula is covariance divided by invariance.\n",
    "    \"\"\"\n",
    "    def b1_coefficient(self, series1, series2):\n",
    "        covariance = self.calculate_covariance(series1, series2)\n",
    "        variance = self.calculate_variance(series1)\n",
    "        b1 = covariance / float(variance)\n",
    "        return b1\n",
    "\n",
    "    \"\"\"Intersect of Linear line\n",
    "    \n",
    "    Formula is bo = y-b1*x\n",
    "    \"\"\"\n",
    "    def b0_coefficient(self, series1, series2):\n",
    "        series1_mean = self.calculate_mean(series1)\n",
    "        series2_mean = self.calculate_mean(series2)\n",
    "        b1 = self.b1_coefficient(series1, series2)\n",
    "        b0 = series2_mean - b1 * series1_mean\n",
    "        return b0\n",
    "\n",
    "    \"\"\"Train the model \n",
    "    \n",
    "    Actually we're calculating b1 and bo coefficient values here.\n",
    "    \"\"\"\n",
    "    def fit(self, features, targets):\n",
    "        self.b0 = self.b0_coefficient(features, targets)\n",
    "        self.b1 = self.b1_coefficient(features, targets)\n",
    "\n",
    "    \"\"\" Predict the value\n",
    "    \n",
    "    Formula is y = b0 + b1*x\n",
    "\n",
    "    We have calculated bo and b1 already in the fit method.\n",
    "    \"\"\"\n",
    "    def predict(self, features):\n",
    "        b0, b1 = self.b0, self.b1\n",
    "        predicted_values = b0 + b1 * features\n",
    "        return predicted_values\n"
   ]
  },
  {
   "cell_type": "markdown",
   "metadata": {},
   "source": [
    "## How to Use"
   ]
  },
  {
   "cell_type": "code",
   "execution_count": 2,
   "metadata": {},
   "outputs": [
    {
     "name": "stdout",
     "output_type": "stream",
     "text": [
      "400.00000000000006\n"
     ]
    }
   ],
   "source": [
    "# Features Variable\n",
    "X = [1, 2, 3, 4, 5, 6, 7, 8, 9, 10]\n",
    "\n",
    "# Target Variable\n",
    "Y = [10, 20, 30, 40, 50, 60, 70, 80, 90, 100]\n",
    "\n",
    "# Initialize SimpleLinearRegression model\n",
    "model = SimpleLinearRegression()\n",
    "\n",
    "# Train the model\n",
    "model.fit(X, Y)\n",
    "\n",
    "# what is value of y if x = 40. You can guess that it should be 400.\n",
    "print(model.predict(40))\n"
   ]
  },
  {
   "cell_type": "code",
   "execution_count": null,
   "metadata": {},
   "outputs": [],
   "source": []
  }
 ],
 "metadata": {
  "kernelspec": {
   "display_name": "Python 3",
   "language": "python",
   "name": "python3"
  },
  "language_info": {
   "codemirror_mode": {
    "name": "ipython",
    "version": 3
   },
   "file_extension": ".py",
   "mimetype": "text/x-python",
   "name": "python",
   "nbconvert_exporter": "python",
   "pygments_lexer": "ipython3",
   "version": "3.6.7"
  }
 },
 "nbformat": 4,
 "nbformat_minor": 2
}
