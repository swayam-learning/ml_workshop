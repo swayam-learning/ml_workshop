{
 "cells": [
  {
   "cell_type": "markdown",
   "metadata": {},
   "source": [
    "# Linear Regression Implementation From Scratch in Python"
   ]
  },
  {
   "cell_type": "code",
   "execution_count": 7,
   "metadata": {},
   "outputs": [],
   "source": [
    "\"\"\"Linear Regression Algorithm From Scratch Using Python\n",
    "\n",
    "This class is implementing Linear Regression Algorithm without using machine learning libraries.\n",
    "\n",
    "\"\"\"\n",
    "from math import pow\n",
    "\n",
    "class SimpleLinearRegression:\n",
    "\n",
    "    \"\"\" Mean Calculation\n",
    "    \n",
    "    Mean is sum of all elements divided by total elements in the series\n",
    "    \"\"\"\n",
    "    def calculate_mean(self, series):\n",
    "        series_sum = sum(series)\n",
    "        series_length = len(series)\n",
    "        mean = series_sum / float(series_length)\n",
    "        return mean\n",
    "\n",
    "    \"\"\"Variance Calculation\n",
    "    \n",
    "    Variance is sum of square of distance of each elements from its mean, divided by total elements.\n",
    "    \"\"\"\n",
    "    def calculate_variance(self, series):\n",
    "        mean = self.calculate_mean(series)\n",
    "        series_length = len(series)\n",
    "        squared_difference = [pow(value - mean, 2) for value in series]\n",
    "        variance = sum(squared_difference) / float(series_length-1)\n",
    "        return variance\n",
    "\n",
    "    \"\"\"Covariance Calculation\n",
    "    \n",
    "    Covariance is mean value of the multiply of the deviaions of two variance.\n",
    "    \"\"\"\n",
    "    def calculate_covariance(self, series1, series2):\n",
    "        series1_mean = self.calculate_mean(series1)\n",
    "        series2_mean = self.calculate_mean(series2)\n",
    "        series1_length = len(series1)\n",
    "        covariance = 0.0\n",
    "        for i in range(0, series1_length):\n",
    "            covariance = covariance + \\\n",
    "                (series1[i] - series1_mean) * (series2[i] - series2_mean)\n",
    "        return covariance / float(series1_length - 1)\n",
    "\n",
    "    \"\"\"Slope of linear line\n",
    "    \n",
    "    Formula is covariance divided by invariance.\n",
    "    \"\"\"\n",
    "    def b1_coefficient(self, series1, series2):\n",
    "        covariance = self.calculate_covariance(series1, series2)\n",
    "        variance = self.calculate_variance(series1)\n",
    "        b1 = covariance / float(variance)\n",
    "        return b1\n",
    "\n",
    "    \"\"\"Intersect of Linear line\n",
    "    \n",
    "    Formula is bo = y-b1*x\n",
    "    \"\"\"\n",
    "    def b0_coefficient(self, series1, series2):\n",
    "        series1_mean = self.calculate_mean(series1)\n",
    "        series2_mean = self.calculate_mean(series2)\n",
    "        b1 = self.b1_coefficient(series1, series2)\n",
    "        b0 = series2_mean - b1 * series1_mean\n",
    "        return b0\n",
    "\n",
    "    \"\"\"Train the model \n",
    "    \n",
    "    Actually we're calculating b1 and bo coefficient values here.\n",
    "    \"\"\"\n",
    "    def fit(self, features, targets):\n",
    "        self.b0 = self.b0_coefficient(features, targets)\n",
    "        self.b1 = self.b1_coefficient(features, targets)\n",
    "\n",
    "    \"\"\" Predict the value\n",
    "    \n",
    "    Formula is y = b0 + b1*x\n",
    "\n",
    "    We have calculated bo and b1 already in the fit method.\n",
    "    \"\"\"\n",
    "    def predict(self, features):\n",
    "        b0, b1 = self.b0, self.b1\n",
    "        predicted_values = b0 + b1 * features\n",
    "        return predicted_values\n"
   ]
  },
  {
   "cell_type": "code",
   "execution_count": 8,
   "metadata": {},
   "outputs": [],
   "source": [
    "import pandas as pd\n",
    "import numpy as np\n",
    "insurance = pd.read_csv(\"insurance.csv\")"
   ]
  },
  {
   "cell_type": "code",
   "execution_count": 9,
   "metadata": {},
   "outputs": [],
   "source": [
    "age_data = insurance[\"age\"]\n",
    "charges_data = insurance[\"charges\"]"
   ]
  },
  {
   "cell_type": "markdown",
   "metadata": {},
   "source": [
    "## How to Use"
   ]
  },
  {
   "cell_type": "code",
   "execution_count": 10,
   "metadata": {},
   "outputs": [],
   "source": [
    "age = np.array(age_data).reshape(-1,1)\n",
    "charges = np.array(charges_data).reshape(-1,1)"
   ]
  },
  {
   "cell_type": "code",
   "execution_count": 11,
   "metadata": {},
   "outputs": [
    {
     "name": "stdout",
     "output_type": "stream",
     "text": [
      "400.00000000000006\n"
     ]
    }
   ],
   "source": [
    "# Features Variable\n",
    "X = [1, 2, 3, 4, 5, 6, 7, 8, 9, 10]\n",
    "\n",
    "# Target Variable\n",
    "Y = [10, 20, 30, 40, 50, 60, 70, 80, 90, 100]\n",
    "\n",
    "# Initialize SimpleLinearRegression model\n",
    "model = SimpleLinearRegression()\n",
    "\n",
    "# Train the model\n",
    "model.fit(X, Y)\n",
    "\n",
    "# what is value of y if x = 40. You can guess that it should be 400.\n",
    "print(model.predict(40))\n"
   ]
  },
  {
   "cell_type": "code",
   "execution_count": 12,
   "metadata": {},
   "outputs": [
    {
     "name": "stdout",
     "output_type": "stream",
     "text": [
      "[8320.3373794]\n"
     ]
    },
    {
     "name": "stderr",
     "output_type": "stream",
     "text": [
      "C:\\Users\\hp\\AppData\\Local\\Temp\\ipykernel_2420\\2217837378.py:27: DeprecationWarning: Conversion of an array with ndim > 0 to a scalar is deprecated, and will error in future. Ensure you extract a single element from your array before performing this operation. (Deprecated NumPy 1.25.)\n",
      "  squared_difference = [pow(value - mean, 2) for value in series]\n"
     ]
    }
   ],
   "source": [
    "model = SimpleLinearRegression()\n",
    "\n",
    "# Train the model\n",
    "model.fit(age,charges)\n",
    "\n",
    "# what is value of y if x = 40. You can guess that it should be 400.\n",
    "print(model.predict(20))"
   ]
  },
  {
   "cell_type": "code",
   "execution_count": 13,
   "metadata": {},
   "outputs": [
    {
     "ename": "TypeError",
     "evalue": "unsupported operand type(s) for +: 'int' and 'list'",
     "output_type": "error",
     "traceback": [
      "\u001b[1;31m---------------------------------------------------------------------------\u001b[0m",
      "\u001b[1;31mTypeError\u001b[0m                                 Traceback (most recent call last)",
      "Cell \u001b[1;32mIn[13], line 7\u001b[0m\n\u001b[0;32m      4\u001b[0m model \u001b[38;5;241m=\u001b[39m SimpleLinearRegression()\n\u001b[0;32m      6\u001b[0m \u001b[38;5;66;03m# Train the model\u001b[39;00m\n\u001b[1;32m----> 7\u001b[0m model\u001b[38;5;241m.\u001b[39mfit(X,Y)\n\u001b[0;32m      9\u001b[0m \u001b[38;5;66;03m# what is value of y if x = 40. You can guess that it should be 400.\u001b[39;00m\n\u001b[0;32m     10\u001b[0m \u001b[38;5;28mprint\u001b[39m(model\u001b[38;5;241m.\u001b[39mpredict(\u001b[38;5;241m20\u001b[39m))\n",
      "Cell \u001b[1;32mIn[7], line 71\u001b[0m, in \u001b[0;36mSimpleLinearRegression.fit\u001b[1;34m(self, features, targets)\u001b[0m\n\u001b[0;32m     70\u001b[0m \u001b[38;5;28;01mdef\u001b[39;00m \u001b[38;5;21mfit\u001b[39m(\u001b[38;5;28mself\u001b[39m, features, targets):\n\u001b[1;32m---> 71\u001b[0m     \u001b[38;5;28mself\u001b[39m\u001b[38;5;241m.\u001b[39mb0 \u001b[38;5;241m=\u001b[39m \u001b[38;5;28mself\u001b[39m\u001b[38;5;241m.\u001b[39mb0_coefficient(features, targets)\n\u001b[0;32m     72\u001b[0m     \u001b[38;5;28mself\u001b[39m\u001b[38;5;241m.\u001b[39mb1 \u001b[38;5;241m=\u001b[39m \u001b[38;5;28mself\u001b[39m\u001b[38;5;241m.\u001b[39mb1_coefficient(features, targets)\n",
      "Cell \u001b[1;32mIn[7], line 60\u001b[0m, in \u001b[0;36mSimpleLinearRegression.b0_coefficient\u001b[1;34m(self, series1, series2)\u001b[0m\n\u001b[0;32m     59\u001b[0m \u001b[38;5;28;01mdef\u001b[39;00m \u001b[38;5;21mb0_coefficient\u001b[39m(\u001b[38;5;28mself\u001b[39m, series1, series2):\n\u001b[1;32m---> 60\u001b[0m     series1_mean \u001b[38;5;241m=\u001b[39m \u001b[38;5;28mself\u001b[39m\u001b[38;5;241m.\u001b[39mcalculate_mean(series1)\n\u001b[0;32m     61\u001b[0m     series2_mean \u001b[38;5;241m=\u001b[39m \u001b[38;5;28mself\u001b[39m\u001b[38;5;241m.\u001b[39mcalculate_mean(series2)\n\u001b[0;32m     62\u001b[0m     b1 \u001b[38;5;241m=\u001b[39m \u001b[38;5;28mself\u001b[39m\u001b[38;5;241m.\u001b[39mb1_coefficient(series1, series2)\n",
      "Cell \u001b[1;32mIn[7], line 15\u001b[0m, in \u001b[0;36mSimpleLinearRegression.calculate_mean\u001b[1;34m(self, series)\u001b[0m\n\u001b[0;32m     14\u001b[0m \u001b[38;5;28;01mdef\u001b[39;00m \u001b[38;5;21mcalculate_mean\u001b[39m(\u001b[38;5;28mself\u001b[39m, series):\n\u001b[1;32m---> 15\u001b[0m     series_sum \u001b[38;5;241m=\u001b[39m \u001b[38;5;28msum\u001b[39m(series)\n\u001b[0;32m     16\u001b[0m     series_length \u001b[38;5;241m=\u001b[39m \u001b[38;5;28mlen\u001b[39m(series)\n\u001b[0;32m     17\u001b[0m     mean \u001b[38;5;241m=\u001b[39m series_sum \u001b[38;5;241m/\u001b[39m \u001b[38;5;28mfloat\u001b[39m(series_length)\n",
      "\u001b[1;31mTypeError\u001b[0m: unsupported operand type(s) for +: 'int' and 'list'"
     ]
    }
   ],
   "source": [
    "X = [[1,2],[3,4],[5,1],[1,12],[12,11]]\n",
    "Y= [6,8,9,10,1]\n",
    "\n",
    "model = SimpleLinearRegression()\n",
    "\n",
    "# Train the model\n",
    "model.fit(X,Y)\n",
    "\n",
    "# what is value of y if x = 40. You can guess that it should be 400.\n",
    "print(model.predict(20))"
   ]
  },
  {
   "cell_type": "code",
   "execution_count": null,
   "metadata": {},
   "outputs": [],
   "source": []
  }
 ],
 "metadata": {
  "kernelspec": {
   "display_name": "Python 3",
   "language": "python",
   "name": "python3"
  },
  "language_info": {
   "codemirror_mode": {
    "name": "ipython",
    "version": 3
   },
   "file_extension": ".py",
   "mimetype": "text/x-python",
   "name": "python",
   "nbconvert_exporter": "python",
   "pygments_lexer": "ipython3",
   "version": "3.12.4"
  }
 },
 "nbformat": 4,
 "nbformat_minor": 2
}
