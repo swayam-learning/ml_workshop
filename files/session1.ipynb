{
 "cells": [
  {
   "cell_type": "markdown",
   "metadata": {},
   "source": [
    "<img src=\"images\\ml.jpg\" height=400px width=1000px></img>"
   ]
  },
  {
   "cell_type": "markdown",
   "metadata": {},
   "source": [
    "## How to preprocess a mixed dataset for machine learning\n",
    "\n",
    "### Preprocessing describes the process of cleaning and converting a 'raw' (i.e. unprocessed) dataset into a clean dataset.\n",
    "### When given a dataset, the preprocessing can have various steps depending on\n",
    "### a) what type of data you're looking at (text, images, time series,...)\n",
    "### b) what models you want to train\n",
    "\n",
    "## Possible Preprocessing Steps\n",
    "#### 1. Rescaling attributes with different scales\n",
    "#### 2. Standardizing the dataset\n",
    "#### 3. Encoding categorial attributes with integer values\n",
    "#### 4. Handling missing data\n",
    "#### 5. Removing duplicated data points\n",
    "#### 6. Removing outliers/handle noisy data\n",
    "#### 7. Discretize the data\n",
    "#### 8. Split the dataset into a training and test set"
   ]
  },
  {
   "cell_type": "markdown",
   "metadata": {},
   "source": [
    "## **Supervised Learning**\n",
    "#### 1.**Classification** -- if the possible output of the function are predefined and discrete/categorical then it is called **Classification**\n",
    "#### 2.**Regression** -- if the possible output values of the function are continuous real values then it is called **Regression**"
   ]
  },
  {
   "cell_type": "markdown",
   "metadata": {},
   "source": [
    "## **Unsupervised Learning**\n",
    "#### -- 1. in this we do not need to know the labels or Ground truth values\n",
    "#### -- 2.the task is to identify the patterns like gropup the similar objects together\n",
    "#### -- 3. Association Rules of mining applies here where we try to group different objects together for eg Bikes and helmets"
   ]
  },
  {
   "cell_type": "markdown",
   "metadata": {},
   "source": [
    "## **Reinforcement Learning**\n",
    "#### -- 1. It is also known as learning from trials and errors\n",
    "#### -- 2. there are two parts agent and environment\n",
    "<img src=\"images\\rl.jpg\" height=400px width=1000px></img>"
   ]
  },
  {
   "cell_type": "code",
   "execution_count": null,
   "metadata": {},
   "outputs": [],
   "source": []
  },
  {
   "cell_type": "code",
   "execution_count": null,
   "metadata": {},
   "outputs": [],
   "source": []
  }
 ],
 "metadata": {
  "kernelspec": {
   "display_name": "base",
   "language": "python",
   "name": "python3"
  },
  "language_info": {
   "codemirror_mode": {
    "name": "ipython",
    "version": 3
   },
   "file_extension": ".py",
   "mimetype": "text/x-python",
   "name": "python",
   "nbconvert_exporter": "python",
   "pygments_lexer": "ipython3",
   "version": "3.12.4"
  }
 },
 "nbformat": 4,
 "nbformat_minor": 2
}
